{
 "cells": [
  {
   "cell_type": "markdown",
   "metadata": {},
   "source": [
    "**Exercício 2**\n",
    "\n",
    "Para a realização deste trabalho, primeiramente, foram instaladas as ferramentas necessárias e de seguida, foi utilizado os módulos *BiConn.py* e *Hash.py* encontrados no material da disciplina e foi utilizado como base o script disponibilizado na aula TP1(2019)."
   ]
  },
  {
   "cell_type": "code",
   "execution_count": 1,
   "metadata": {},
   "outputs": [],
   "source": [
    "from BiConn import *\n",
    "from Hash import *\n",
    "from cryptography.hazmat.primitives.ciphers.aead import AESGCM"
   ]
  },
  {
   "cell_type": "markdown",
   "metadata": {},
   "source": [
    "Após feita a importação dos módulos necessários, um *inicialization vector* de 16 bits é gerado."
   ]
  },
  {
   "cell_type": "code",
   "execution_count": 2,
   "metadata": {},
   "outputs": [],
   "source": [
    "my_salt = os.urandom(16)"
   ]
  },
  {
   "cell_type": "markdown",
   "metadata": {},
   "source": [
    "Como descrito na aula, primeiramente o processo **Emitter** gera a chave a partir da *password* inserida, cria uma mensagem, cifra a mensagem com a chave e envia o criptograma pelo canal. Porém, para que haja uma autenticação do criptograma e dos metadados, a cifra foi alterada para o AES no modo GCM utilizando o módulo *aead* da biblioteca *cryptography*. Além disto, é feita a autenticação da chave utilizando o MAC disponível na função *mac* do módulo *Hash.py*."
   ]
  },
  {
   "cell_type": "code",
   "execution_count": 3,
   "metadata": {},
   "outputs": [],
   "source": [
    "def Emitter(conn):\n",
    "    passwd = bytes(getpass('Emmiter password: '), 'utf-8')\n",
    "\n",
    "    \n",
    "    plaintext = os.urandom(1024)\n",
    "    associated_data = os.urandom(256)\n",
    "    iv = my_salt\n",
    "    \n",
    "    try:\n",
    "        key = kdf(iv).derive(passwd)\n",
    "        \n",
    "        tag = mac(key, plaintext)\n",
    "        \n",
    "        aesgcm = AESGCM(key)\n",
    "        ciphertext = aesgcm.encrypt(my_salt, plaintext, associated_data)\n",
    "        \n",
    "        # Cria um objecto contento do ciphertext, a tag e o associated_data\n",
    "        obj = {'mess': ciphertext, 'tag': tag, 'aad': associated_data}\n",
    "        conn.send(obj)  # envia o objecto pela conexão\n",
    "    except:\n",
    "        print(\"Erro no emissor\")\n",
    "\n",
    "    conn.close()"
   ]
  },
  {
   "cell_type": "markdown",
   "metadata": {},
   "source": [
    "Ao receber o objecto, o **Receiver** verifica a *password* e após recuperar a informação, o criptograma \n",
    "é decifrado e a tag é verificada."
   ]
  },
  {
   "cell_type": "code",
   "execution_count": 1,
   "metadata": {},
   "outputs": [],
   "source": [
    "def Receiver(conn):\n",
    "    passwd = bytes(getpass('Receiver password: '), 'utf-8')\n",
    "\n",
    "    # verify passwd\n",
    "    try:\n",
    "        # Recuperar a informação\n",
    "        obj = conn.recv()\n",
    "        ciphertext = obj['mess']\n",
    "        tag = obj['tag']\n",
    "        associated_data = obj['aad']\n",
    "        iv = my_salt\n",
    "        # Gerar a chave e decifrar o ciphertext obtendo o plaintext\n",
    "        key = kdf(iv).derive(passwd)\n",
    "        \n",
    "        aesgcm = AESGCM(key)\n",
    "        plaintext = aesgcm.decrypt(my_salt, ciphertext, associated_data)\n",
    "        # Verificação\n",
    "        if mac(key, plaintext, tag) is None:\n",
    "            print('OK')\n",
    "        else:\n",
    "            raise\n",
    "\n",
    "    except:\n",
    "        print('FAIL')\n",
    "\n",
    "    conn.close()"
   ]
  },
  {
   "cell_type": "code",
   "execution_count": 5,
   "metadata": {
    "scrolled": true
   },
   "outputs": [
    {
     "name": "stdout",
     "output_type": "stream",
     "text": [
      "Emmiter password: ········\n",
      "Receiver password: ········\n",
      "OK\n"
     ]
    }
   ],
   "source": [
    "BiConn(Emitter, Receiver, timeout=20).manual()"
   ]
  }
 ],
 "metadata": {
  "kernelspec": {
   "display_name": "Python 3",
   "language": "python",
   "name": "python3"
  },
  "language_info": {
   "codemirror_mode": {
    "name": "ipython",
    "version": 3
   },
   "file_extension": ".py",
   "mimetype": "text/x-python",
   "name": "python",
   "nbconvert_exporter": "python",
   "pygments_lexer": "ipython3",
   "version": "3.7.6"
  }
 },
 "nbformat": 4,
 "nbformat_minor": 2
}
